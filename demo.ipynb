{
 "cells": [
  {
   "cell_type": "code",
   "execution_count": 2,
   "metadata": {},
   "outputs": [],
   "source": [
    "import numpy as np\n",
    "import matplotlib.pyplot as plt \n",
    "\n",
    "from sampling import * \n",
    "from energies import *\n",
    "from datasets import load_dataset"
   ]
  },
  {
   "cell_type": "code",
   "execution_count": 3,
   "metadata": {},
   "outputs": [],
   "source": [
    "X = load_dataset(\"test\", n_test=500)"
   ]
  },
  {
   "cell_type": "markdown",
   "metadata": {},
   "source": [
    "# Usage \n",
    "\n",
    "With a dataset $X \\in \\mathbb{R}^{d \\times n}$ (i.e., columns are the datapoints of interest), then we do the following to identify a prototype set:\n",
    "* __Define an Energy object__: ``energy = ConicHullEnergy(X, k=k, p=p)``\n",
    "    * This handles all the updating of distances based on the choice of (i) the distance $d(x_i, \\mathcal{S})$ and (ii) the value of power, $p$\n",
    "* __Define a AdaptiveSampler object__: ``sampler = AdaptiveSampler(energy)``\n",
    "    * This object handles the interactivity of selecting which points to add to the prototype set. This object references the ``energy`` object previously defined. \n",
    "\n",
    "Prototype set selection then proceeds as follows\n",
    "```python\n",
    "# Build Phase\n",
    "sampler.build_phase(method=\"sampling\")  # method is \"sampling\" or \"search\"\n",
    "\n",
    "# Swap Phase\n",
    "sampler.swap_phase(method=\"search\")     # method is \"sampling\" or \"search\"\n",
    "```"
   ]
  },
  {
   "cell_type": "markdown",
   "metadata": {},
   "source": [
    "## Adaptive Search Build"
   ]
  },
  {
   "cell_type": "code",
   "execution_count": 4,
   "metadata": {},
   "outputs": [
    {
     "name": "stdout",
     "output_type": "stream",
     "text": [
      "0.16123610506677233\n"
     ]
    }
   ],
   "source": [
    "energy = ConicHullEnergy(X, k=5, p=2, n_jobs=2)\n",
    "adapsearch = AdaptiveSampler(energy, seed=10)\n",
    "adapsearch.build_phase(\"search\")\n",
    "print(energy.energy)\n",
    "search_inds = energy.indices "
   ]
  },
  {
   "cell_type": "markdown",
   "metadata": {},
   "source": [
    "## Adaptive Sampling Build"
   ]
  },
  {
   "cell_type": "code",
   "execution_count": 5,
   "metadata": {},
   "outputs": [
    {
     "name": "stdout",
     "output_type": "stream",
     "text": [
      "0.2035304959805845\n"
     ]
    }
   ],
   "source": [
    "energy = ConicHullEnergy(X, k=5, p=2, n_jobs=2)  \n",
    "adapsampling = AdaptiveSampler(energy, seed=10)\n",
    "adapsampling.build_phase(\"sampling\")\n",
    "print(energy.energy)\n",
    "sampling_inds = energy.indices"
   ]
  },
  {
   "cell_type": "markdown",
   "metadata": {},
   "source": [
    "## Ensure ``init_set`` recovers same energies"
   ]
  },
  {
   "cell_type": "code",
   "execution_count": 29,
   "metadata": {},
   "outputs": [
    {
     "name": "stdout",
     "output_type": "stream",
     "text": [
      "[0.21350068214123072, 0.1975601489442957, 0.18166710281206286, 0.17069258227341014, 0.16123610506677233]\n",
      "[0.29543351215760105, 0.2253235992988761, 0.21154572672976005, 0.208469244868854, 0.2035304959805845]\n"
     ]
    }
   ],
   "source": [
    "energy_ = ConicHullEnergy(X, k=5, p=2, n_jobs=2)\n",
    "energy_.init_set(search_inds)\n",
    "print(energy_.energy_values)\n",
    "\n",
    "energy_ = ConicHullEnergy(X, k=5, p=2, n_jobs=2)\n",
    "energy_.init_set(sampling_inds)\n",
    "print(energy_.energy_values)"
   ]
  },
  {
   "cell_type": "markdown",
   "metadata": {},
   "source": [
    "## Adaptive Sampling Build + Adaptive Search Swap"
   ]
  },
  {
   "cell_type": "code",
   "execution_count": 6,
   "metadata": {},
   "outputs": [],
   "source": [
    "energy = ConicHullEnergy(X, k=5, p=2, n_jobs=2)  \n",
    "sampling_search = AdaptiveSampler(energy, seed=10)\n",
    "sampling_search.build_phase(\"sampling\")\n",
    "sampling_search.swap_phase(\"search\")"
   ]
  },
  {
   "cell_type": "code",
   "execution_count": 7,
   "metadata": {},
   "outputs": [
    {
     "name": "stdout",
     "output_type": "stream",
     "text": [
      "0.14773671954948786\n"
     ]
    }
   ],
   "source": [
    "print(energy.energy)"
   ]
  },
  {
   "cell_type": "code",
   "execution_count": null,
   "metadata": {},
   "outputs": [],
   "source": []
  }
 ],
 "metadata": {
  "kernelspec": {
   "display_name": "graphssl",
   "language": "python",
   "name": "python3"
  },
  "language_info": {
   "codemirror_mode": {
    "name": "ipython",
    "version": 3
   },
   "file_extension": ".py",
   "mimetype": "text/x-python",
   "name": "python",
   "nbconvert_exporter": "python",
   "pygments_lexer": "ipython3",
   "version": "3.12.2"
  }
 },
 "nbformat": 4,
 "nbformat_minor": 2
}
